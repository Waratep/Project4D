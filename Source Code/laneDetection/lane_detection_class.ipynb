{
 "cells": [
  {
   "cell_type": "code",
   "execution_count": 1,
   "metadata": {},
   "outputs": [],
   "source": [
    "import cv2\n",
    "import numpy as np\n",
    "from scipy import ndimage as ndi\n",
    "from skimage.morphology import square,dilation\n",
    "from skimage.io import imshow\n",
    "import time"
   ]
  },
  {
   "cell_type": "code",
   "execution_count": 2,
   "metadata": {},
   "outputs": [],
   "source": [
    "class HoughTransform:    \n",
    "    def __init__(self,filename = 'test.h264',threshold = 40):\n",
    "        self.url = '../../video/' + filename\n",
    "        self.cap = cv2.VideoCapture(self.url)\n",
    "        self.countR = 0\n",
    "        self.left = []\n",
    "        self.right = []\n",
    "        self.ret = 0\n",
    "        self.frame = 0\n",
    "        self.slope_right = 0\n",
    "        self.slope_left = 0\n",
    "        self.slope = 0\n",
    "        self.slope_rightP = 0\n",
    "        self.slope_leftP = 0\n",
    "        self.font = cv2.FONT_HERSHEY_SIMPLEX\n",
    "        self.threshold = threshold\n",
    "        self.count = 0"
   ]
  },
  {
   "cell_type": "code",
   "execution_count": null,
   "metadata": {},
   "outputs": [],
   "source": []
  }
 ],
 "metadata": {
  "kernelspec": {
   "display_name": "Python 3",
   "language": "python",
   "name": "python3"
  },
  "language_info": {
   "codemirror_mode": {
    "name": "ipython",
    "version": 3
   },
   "file_extension": ".py",
   "mimetype": "text/x-python",
   "name": "python",
   "nbconvert_exporter": "python",
   "pygments_lexer": "ipython3",
   "version": "3.6.5"
  }
 },
 "nbformat": 4,
 "nbformat_minor": 2
}
